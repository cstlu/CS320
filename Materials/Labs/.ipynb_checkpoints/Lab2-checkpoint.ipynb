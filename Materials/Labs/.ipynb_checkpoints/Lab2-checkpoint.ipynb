{
 "cells": [
  {
   "cell_type": "markdown",
   "metadata": {},
   "source": [
    "# Lab2: Linked list\n",
    "\n",
    "#### Giảng viên: Nguyễn Đức Thắng \n",
    "#### Email: thangdn@thanglong.edu.vn\n",
    "#### Số điện thoại: 0967953735\n",
    "\n",
    "Tham khảo: \n",
    "\n",
    "1. https://www.stdio.vn\n",
    "2. https://www.geeksforgeeks.org"
   ]
  },
  {
   "cell_type": "markdown",
   "metadata": {},
   "source": [
    "### Phần I. Kiểm tra kiến thức tuần 1\n",
    "\n",
    "Sinh viên truy cập vào trang https://kahoot.it/ và nhận mã kiểm tra từ giáo viên. (Tại lớp)\n",
    "\n",
    "#### Ôn tập 2 toán tử new\n",
    "[![](http://img.youtube.com/vi/0rr66pZlQX4/0.jpg)](http://www.youtube.com/watch?v=0rr66pZlQX4 \"\")\n",
    "#### Ôn tập 2 toán tử delete\n",
    "[![](http://img.youtube.com/vi/iDuJa2b1QtQ/0.jpg)](http://www.youtube.com/watch?v=iDuJa2b1QtQ \"\")\n",
    "\n",
    "[![](http://img.youtube.com/vi/CSVRA4_xOkw/0.jpg)](http://www.youtube.com/watch?v=CSVRA4_xOkw \"\")\n",
    "\n",
    "### Phần II. Linked List\n",
    "![abc](https://www.codeproject.com/KB/cpp/linked_list/image001.gif)"
   ]
  },
  {
   "cell_type": "code",
   "execution_count": 1,
   "metadata": {},
   "outputs": [],
   "source": [
    "#include <iostream>\n",
    "using namespace std;"
   ]
  },
  {
   "cell_type": "markdown",
   "metadata": {},
   "source": [
    "Cũng giống như mảng, danh sách liên kết cũng bao gồm các phần tử, có mối liên hệ với nhau. Ta gọi mỗi phần tử đó là một Node. Node được xem là trái tim của danh sách liên kết, mỗi Node sẽ lưu trữ 2 thông tin:\n",
    "\n",
    "***Thông tin dữ liệu:*** Lưu trữ các thông tìn về chính Node đó.\n",
    "\n",
    "***Thông tin liên kết:*** Lưu trữ địa chỉ của phần tử kế tiếp trong danh sách, hoặc lưu trữ giá trị NULL nếu phần tử đó nằm cuối danh sách. \n",
    "\n",
    "Một cách tổng quát ta có:"
   ]
  },
  {
   "cell_type": "code",
   "execution_count": 2,
   "metadata": {},
   "outputs": [],
   "source": [
    "// A linked list node\n",
    "struct node\n",
    "{\n",
    "  int data;\n",
    "  node *next;\n",
    "};"
   ]
  },
  {
   "cell_type": "markdown",
   "metadata": {},
   "source": [
    "### Một số thao tác cơ bản trên danh sách liên kết đơn\n",
    "\n",
    "Bây giờ chúng ta bắt đầu tìm hiểu một số phương thức đơn giản tạo nên sự liên kết các Node để tạo ra một danh sách liên kết đơn hoàn chỉnh.\n",
    "\n",
    "Trong danh sách liên kết đơn, các Node sẽ không được lưu liên tiếp nhau trên bộ nhớ, Node trước sẽ mang thông tin địa chỉ của Node sau, như vậy nếu bạn xử lý lỗi một Node sẽ dẫn đến tính huống xấu nhất, ta sẽ mất toàn bộ thông tin của các Node phía sau.\n",
    "\n",
    "Đầu tiên để tạo một danh sách liên kết ta cần khởi tạo một ```node *head```. Và sau này chúng ta sẽ quản lý (thêm, sửa, xóa node) thông qua head.\n",
    "\n"
   ]
  },
  {
   "cell_type": "code",
   "execution_count": 3,
   "metadata": {},
   "outputs": [],
   "source": [
    "node *head = nullptr;  "
   ]
  },
  {
   "cell_type": "code",
   "execution_count": 4,
   "metadata": {},
   "outputs": [],
   "source": [
    "node *new_element = new node;\n",
    "new_element->data = 5;\n",
    "new_element->next = nullptr;"
   ]
  },
  {
   "cell_type": "markdown",
   "metadata": {},
   "source": [
    "```c++\n",
    " head          new_element         \n",
    "  |                |       \n",
    "  |                |        \n",
    "  |         +----+------------+   \n",
    "0xnullptr   | 5  | 0xnullptr  |   \n",
    "            +----+------------+  \n",
    "```"
   ]
  },
  {
   "cell_type": "code",
   "execution_count": 5,
   "metadata": {},
   "outputs": [],
   "source": [
    "node thang;\n",
    "thang.data = 7;\n",
    "thang.next = nullptr;"
   ]
  },
  {
   "cell_type": "code",
   "execution_count": 6,
   "metadata": {},
   "outputs": [
    {
     "name": "stdout",
     "output_type": "stream",
     "text": [
      "(node *) 0x5148e90\n"
     ]
    }
   ],
   "source": [
    "new_element"
   ]
  },
  {
   "cell_type": "code",
   "execution_count": 7,
   "metadata": {},
   "outputs": [],
   "source": [
    "head = new_element;"
   ]
  },
  {
   "cell_type": "code",
   "execution_count": 8,
   "metadata": {},
   "outputs": [
    {
     "name": "stdout",
     "output_type": "stream",
     "text": [
      "(node *) nullptr\n"
     ]
    }
   ],
   "source": [
    "head->next"
   ]
  },
  {
   "cell_type": "code",
   "execution_count": 9,
   "metadata": {},
   "outputs": [
    {
     "name": "stdout",
     "output_type": "stream",
     "text": [
      "(node *) 0x7f34d07a8068\n"
     ]
    }
   ],
   "source": [
    "head->next = &thang"
   ]
  },
  {
   "cell_type": "code",
   "execution_count": 10,
   "metadata": {},
   "outputs": [
    {
     "name": "stdout",
     "output_type": "stream",
     "text": [
      "(int) 5\n"
     ]
    }
   ],
   "source": [
    "head->data"
   ]
  },
  {
   "cell_type": "code",
   "execution_count": 11,
   "metadata": {},
   "outputs": [
    {
     "name": "stdout",
     "output_type": "stream",
     "text": [
      "(int) 7\n"
     ]
    }
   ],
   "source": [
    "head->next->data"
   ]
  },
  {
   "cell_type": "markdown",
   "metadata": {},
   "source": [
    "```c++\n",
    " head          new_element         \n",
    "  |                |       \n",
    "  |                |        \n",
    "  |         +----+------------+   \n",
    "0x8052512 =>| 5  | 0xnullptr  |   \n",
    "            +----+------------+  \n",
    "```"
   ]
  },
  {
   "cell_type": "markdown",
   "metadata": {},
   "source": [
    "### Chèn vào đầu danh sách\n",
    "![](https://www.stdio.vn/statics/external_data/files/pages/articles/2014/106/content/ss_2.png)\n",
    "\n",
    "Như đã trình bày ở trên, khi thao tác với mỗi Node trên danh sách liên kết ta cần thực hiện cẩn thận, đúng thứ tự để tránh mất thông tin của các Node phía sau. Dưới đây là thứ tự các bước chèn một phần tử vào đầu danh sách.\n",
    "\n",
    "#### Bước 1: Tạo một node mới"
   ]
  },
  {
   "cell_type": "code",
   "execution_count": 12,
   "metadata": {},
   "outputs": [],
   "source": [
    "node *new_elem = new node;\n",
    "new_elem->data = 3;\n",
    "new_elem->next = nullptr;"
   ]
  },
  {
   "cell_type": "markdown",
   "metadata": {},
   "source": [
    "#### Bước 2: Gắn con trỏ next của node new_elem bằng địa chỉ của phần tử mà head trỏ tới"
   ]
  },
  {
   "cell_type": "code",
   "execution_count": 13,
   "metadata": {},
   "outputs": [],
   "source": [
    "new_elem->next = head;"
   ]
  },
  {
   "cell_type": "code",
   "execution_count": 14,
   "metadata": {},
   "outputs": [
    {
     "name": "stdout",
     "output_type": "stream",
     "text": [
      "(int) 5\n"
     ]
    }
   ],
   "source": [
    "new_elem->next->data"
   ]
  },
  {
   "cell_type": "code",
   "execution_count": 15,
   "metadata": {},
   "outputs": [
    {
     "name": "stdout",
     "output_type": "stream",
     "text": [
      "(int) 5\n"
     ]
    }
   ],
   "source": [
    "head->data"
   ]
  },
  {
   "cell_type": "markdown",
   "metadata": {},
   "source": [
    "#### Bước 3: Thay đổi con trỏ head trỏ đến node new_elem"
   ]
  },
  {
   "cell_type": "code",
   "execution_count": 16,
   "metadata": {},
   "outputs": [],
   "source": [
    "head = new_elem;"
   ]
  },
  {
   "cell_type": "code",
   "execution_count": 17,
   "metadata": {},
   "outputs": [
    {
     "name": "stdout",
     "output_type": "stream",
     "text": [
      "(int) 5\n"
     ]
    }
   ],
   "source": [
    "new_elem->next->data"
   ]
  },
  {
   "cell_type": "code",
   "execution_count": 18,
   "metadata": {},
   "outputs": [
    {
     "name": "stdout",
     "output_type": "stream",
     "text": [
      "(int) 3\n"
     ]
    }
   ],
   "source": [
    "head->data"
   ]
  },
  {
   "cell_type": "markdown",
   "metadata": {},
   "source": [
    "### In ra các phần tử trong danh sách\n",
    "Thông qua con trỏ head ta có thể dựa vào thông tin trên next để duyệt lần lượt các phần tử của danh sách.\n",
    "\n",
    "***Chú ý: Tuyệt đối không được sử dụng head để duyệt. Thay vào đó ta sử dụng một node khác để duyệt từ head***"
   ]
  },
  {
   "cell_type": "code",
   "execution_count": 19,
   "metadata": {},
   "outputs": [],
   "source": [
    "void printList()\n",
    "{\n",
    "    node *p = head;\n",
    "    while (p != nullptr)\n",
    "    {\n",
    "        // Process Node\n",
    "        cout<<p->data<<\" \";\n",
    "        p = p->next;\n",
    "    }\n",
    "}"
   ]
  },
  {
   "cell_type": "code",
   "execution_count": 20,
   "metadata": {},
   "outputs": [
    {
     "name": "stdout",
     "output_type": "stream",
     "text": [
      "3 5 7 "
     ]
    }
   ],
   "source": [
    "printList()"
   ]
  },
  {
   "cell_type": "markdown",
   "metadata": {},
   "source": [
    "### Chèn vào cuối danh sách\n",
    "\n",
    "Khác với thao tác chèn vào đầu danh sách, chèn vào cuối danh sách chúng ta chỉ cần phải di chuyển đến cuối của danh sách rồi mới thực hiện thêm phần tử vào được.\n",
    "\n",
    "![](http://pics.c4learn.com/2014/01/insert_last.gif)"
   ]
  },
  {
   "cell_type": "markdown",
   "metadata": {},
   "source": [
    "#### Bước 1: Tạo node mới"
   ]
  },
  {
   "cell_type": "code",
   "execution_count": 21,
   "metadata": {},
   "outputs": [],
   "source": [
    "node *new_elem1 = new node;\n",
    "new_elem1->data = 6;\n",
    "new_elem1->next = nullptr;"
   ]
  },
  {
   "cell_type": "markdown",
   "metadata": {},
   "source": [
    "#### Bước 2: Di chuyển con trỏ xuống phía cuối của danh sách"
   ]
  },
  {
   "cell_type": "code",
   "execution_count": 22,
   "metadata": {},
   "outputs": [],
   "source": [
    "node *q = head;\n",
    "while (q->next != nullptr)\n",
    "{\n",
    "    q = q->next;\n",
    "}\n",
    "q->next = new_elem1;"
   ]
  },
  {
   "cell_type": "code",
   "execution_count": 23,
   "metadata": {},
   "outputs": [
    {
     "name": "stdout",
     "output_type": "stream",
     "text": [
      "3 5 7 6 "
     ]
    }
   ],
   "source": [
    "printList()"
   ]
  },
  {
   "cell_type": "markdown",
   "metadata": {},
   "source": [
    "### Xóa một phần tử đầu danh sách\n",
    "Xóa 1 phần tử ở đầu danh sách không chỉ đơn giản là cập nhập lại con trỏ pead, mà ta phải giải phóng được vùng nhớ của node cần xóa.\n",
    "\n",
    "![](https://www.stdio.vn/statics/external_data/files/pages/articles/2014/106/content/ss_5.png)\n",
    "\n",
    "#### Bước 1: Khai báo một con trỏ p để lưu lại địa chỉ của Node đầu tiên."
   ]
  },
  {
   "cell_type": "code",
   "execution_count": 24,
   "metadata": {},
   "outputs": [],
   "source": [
    "node* p = head;"
   ]
  },
  {
   "cell_type": "markdown",
   "metadata": {},
   "source": [
    "#### Bước 2: cập nhập lại giá trị của head."
   ]
  },
  {
   "cell_type": "code",
   "execution_count": 25,
   "metadata": {},
   "outputs": [],
   "source": [
    "head = head->next;"
   ]
  },
  {
   "cell_type": "markdown",
   "metadata": {},
   "source": [
    "#### Bước 3: giải phóng vùng nhớ của Node cần xóa."
   ]
  },
  {
   "cell_type": "code",
   "execution_count": 26,
   "metadata": {},
   "outputs": [],
   "source": [
    "delete p;"
   ]
  },
  {
   "cell_type": "code",
   "execution_count": 27,
   "metadata": {},
   "outputs": [
    {
     "name": "stdout",
     "output_type": "stream",
     "text": [
      "5 7 6 "
     ]
    }
   ],
   "source": [
    "printList()"
   ]
  },
  {
   "cell_type": "markdown",
   "metadata": {},
   "source": [
    "### Xây dựng lớp Linked list"
   ]
  },
  {
   "cell_type": "code",
   "execution_count": 28,
   "metadata": {},
   "outputs": [],
   "source": [
    "class LinkedList\n",
    "{\n",
    "public:\n",
    "    int length;\n",
    "    node* head;\n",
    "public:\n",
    "    LinkedList();\n",
    "    // set\n",
    "    void push_back(int data);\n",
    "    void push_front(int data);\n",
    "    void pop_back();\n",
    "    void pop_front();\n",
    "    void clear();\n",
    "    \n",
    "    //get\n",
    "    int top_back()const;\n",
    "    int top_front()const;\n",
    "    void printList()const;\n",
    "    int at(int index)const;\n",
    "    int size()const;\n",
    "    bool isEmpty()const;\n",
    "    \n",
    "    int operator[] (const int &index)const\n",
    "    {\n",
    "        node* p = this->head;\n",
    "        for(int i = 0; i< index;i++)\n",
    "        {\n",
    "            p = p -> next;\n",
    "        }\n",
    "        return p->data;\n",
    "    }\n",
    "    \n",
    "    ~LinkedList();\n",
    "};\n"
   ]
  },
  {
   "cell_type": "code",
   "execution_count": 29,
   "metadata": {},
   "outputs": [],
   "source": [
    "LinkedList::LinkedList(){\n",
    "    this->length = 0;\n",
    "    this->head = nullptr;\n",
    "    std::cout << \"LIST INIT\";\n",
    "}"
   ]
  },
  {
   "cell_type": "code",
   "execution_count": 30,
   "metadata": {},
   "outputs": [],
   "source": [
    "LinkedList::~LinkedList(){\n",
    "    delete this->head;\n",
    "    std::cout << \"LIST DELETED\";\n",
    "}"
   ]
  },
  {
   "cell_type": "code",
   "execution_count": 31,
   "metadata": {},
   "outputs": [],
   "source": [
    "void LinkedList::push_front(int data){\n",
    "    node* new_node = new node;\n",
    "    new_node->data = data;\n",
    "    new_node->next = this->head;\n",
    "    this->head = new_node;\n",
    "    this->length++;\n",
    "}"
   ]
  },
  {
   "cell_type": "code",
   "execution_count": 32,
   "metadata": {},
   "outputs": [],
   "source": [
    "void LinkedList::printList()const{\n",
    "    if(this->head == nullptr)\n",
    "        return;\n",
    "    node* p = this->head;\n",
    "    int i = 1;\n",
    "    while(p != nullptr){\n",
    "        cout << i << \": \" << p->data << endl;\n",
    "        p = p->next;\n",
    "        i++;\n",
    "    }\n",
    "}"
   ]
  },
  {
   "cell_type": "code",
   "execution_count": 33,
   "metadata": {},
   "outputs": [],
   "source": [
    "void LinkedList::push_back(int data){\n",
    "    node* new_node = new node;\n",
    "    new_node->data = data;\n",
    "    new_node->next = nullptr;\n",
    "    \n",
    "    if(head == nullptr)\n",
    "    {\n",
    "        head = new_node;\n",
    "    }else{\n",
    "        node* p = this->head;\n",
    "        while(p->next != nullptr)\n",
    "            p=p->next;\n",
    "\n",
    "        p->next = new_node;\n",
    "    }\n",
    "    \n",
    "    this->length++;\n",
    "}"
   ]
  },
  {
   "cell_type": "code",
   "execution_count": 34,
   "metadata": {},
   "outputs": [],
   "source": [
    "void LinkedList::pop_front(){\n",
    "    node* p = this->head;\n",
    "    head = head -> next;\n",
    "    \n",
    "    delete p;\n",
    "    this->length--;\n",
    "}"
   ]
  },
  {
   "cell_type": "code",
   "execution_count": 35,
   "metadata": {},
   "outputs": [],
   "source": [
    "void LinkedList::pop_back(){\n",
    "    if(this->head == nullptr)\n",
    "        return;\n",
    "    else\n",
    "    {\n",
    "        node* p = this->head;\n",
    "        \n",
    "        if(p->next == nullptr){ // Truong hop co duy nhat mot phan tu\n",
    "            delete p;\n",
    "            p = nullptr;\n",
    "        }\n",
    "        else{\n",
    "            while(p->next->next != nullptr) // Truong hop co nhieu hon mot phan tu\n",
    "                p=p->next;\n",
    "            delete p->next;\n",
    "            p->next = nullptr;\n",
    "        }\n",
    "        this->length--;\n",
    "    }\n",
    "}"
   ]
  },
  {
   "cell_type": "code",
   "execution_count": 36,
   "metadata": {},
   "outputs": [],
   "source": [
    "int LinkedList::top_front()const{\n",
    "   return this->head->data;\n",
    "}"
   ]
  },
  {
   "cell_type": "code",
   "execution_count": 37,
   "metadata": {},
   "outputs": [],
   "source": [
    "int LinkedList::top_back()const{\n",
    "    node* p = this->head;\n",
    "    while(p->next != nullptr)\n",
    "        p=p->next;\n",
    "    \n",
    "   return p->data;\n",
    "}"
   ]
  },
  {
   "cell_type": "code",
   "execution_count": 38,
   "metadata": {},
   "outputs": [],
   "source": [
    "int LinkedList::at(int index)const{\n",
    "    node* p = this->head;\n",
    "    for(int i = 0; i< index;i++)\n",
    "    {\n",
    "        p = p -> next;\n",
    "    }\n",
    "   return p->data;\n",
    "}"
   ]
  },
  {
   "cell_type": "code",
   "execution_count": 39,
   "metadata": {},
   "outputs": [],
   "source": [
    "int LinkedList::size()const{\n",
    "   return this->length;\n",
    "}"
   ]
  },
  {
   "cell_type": "code",
   "execution_count": 40,
   "metadata": {},
   "outputs": [],
   "source": [
    "bool LinkedList::isEmpty()const{\n",
    "    return this->head==nullptr;\n",
    "}"
   ]
  },
  {
   "cell_type": "code",
   "execution_count": 41,
   "metadata": {},
   "outputs": [],
   "source": [
    "void LinkedList::clear(){\n",
    "    while(!this->isEmpty()){\n",
    "        this->pop_front();\n",
    "    }\n",
    "}"
   ]
  },
  {
   "cell_type": "code",
   "execution_count": null,
   "metadata": {},
   "outputs": [],
   "source": []
  },
  {
   "cell_type": "code",
   "execution_count": 42,
   "metadata": {},
   "outputs": [
    {
     "name": "stdout",
     "output_type": "stream",
     "text": [
      "LIST INIT"
     ]
    }
   ],
   "source": [
    "LinkedList CF212;"
   ]
  },
  {
   "cell_type": "code",
   "execution_count": 43,
   "metadata": {},
   "outputs": [],
   "source": [
    "CF212.push_front(4);\n",
    "CF212.push_front(3);\n",
    "CF212.push_back(5);"
   ]
  },
  {
   "cell_type": "code",
   "execution_count": 44,
   "metadata": {},
   "outputs": [
    {
     "name": "stdout",
     "output_type": "stream",
     "text": [
      "1: 3\n",
      "2: 4\n",
      "3: 5\n"
     ]
    }
   ],
   "source": [
    "CF212.printList()"
   ]
  },
  {
   "cell_type": "code",
   "execution_count": 45,
   "metadata": {},
   "outputs": [],
   "source": [
    "CF212.pop_back();"
   ]
  },
  {
   "cell_type": "code",
   "execution_count": 46,
   "metadata": {},
   "outputs": [
    {
     "name": "stdout",
     "output_type": "stream",
     "text": [
      "1: 3\n",
      "2: 4\n"
     ]
    }
   ],
   "source": [
    "CF212.printList()"
   ]
  },
  {
   "cell_type": "code",
   "execution_count": 47,
   "metadata": {},
   "outputs": [
    {
     "name": "stdout",
     "output_type": "stream",
     "text": [
      "(bool) false\n"
     ]
    }
   ],
   "source": [
    "CF212.isEmpty()"
   ]
  },
  {
   "cell_type": "code",
   "execution_count": 48,
   "metadata": {},
   "outputs": [],
   "source": [
    "CF212.clear()"
   ]
  },
  {
   "cell_type": "code",
   "execution_count": 49,
   "metadata": {},
   "outputs": [],
   "source": [
    "CF212.push_front(4);\n",
    "CF212.push_front(3);\n",
    "CF212.push_back(5);"
   ]
  },
  {
   "cell_type": "code",
   "execution_count": 50,
   "metadata": {},
   "outputs": [
    {
     "name": "stdout",
     "output_type": "stream",
     "text": [
      "1: 3\n",
      "2: 4\n",
      "3: 5\n"
     ]
    }
   ],
   "source": [
    "CF212.printList()"
   ]
  },
  {
   "cell_type": "code",
   "execution_count": 51,
   "metadata": {},
   "outputs": [
    {
     "name": "stdout",
     "output_type": "stream",
     "text": [
      "(int) 5\n"
     ]
    }
   ],
   "source": [
    "CF212[2]"
   ]
  },
  {
   "cell_type": "code",
   "execution_count": null,
   "metadata": {},
   "outputs": [],
   "source": []
  }
 ],
 "metadata": {
  "kernelspec": {
   "display_name": "xeus C++11",
   "language": "",
   "name": "xeus-cling-cpp11"
  },
  "language_info": {
   "codemirror_mode": "text/x-c++src",
   "file_extension": ".cpp",
   "mimetype": "text/x-c++src",
   "name": "c++",
   "version": ""
  }
 },
 "nbformat": 4,
 "nbformat_minor": 2
}
