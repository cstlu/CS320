{
 "cells": [
  {
   "cell_type": "code",
   "execution_count": 3,
   "metadata": {},
   "outputs": [],
   "source": [
    "#include <iostream>\n",
    "using namespace std;\n",
    "#include <queue>"
   ]
  },
  {
   "cell_type": "code",
   "execution_count": 1,
   "metadata": {},
   "outputs": [],
   "source": [
    "template <class T>\n",
    "class TreeNode\n",
    "{\n",
    "    public:\n",
    "        T data;\n",
    "        TreeNode *left;\n",
    "        TreeNode *right;\n",
    "    public:\n",
    "        TreeNode(T data)\n",
    "        {\n",
    "            this -> data = data;\n",
    "            this -> left = NULL;\n",
    "            this -> right = NULL;\n",
    "        }\n",
    "};"
   ]
  },
  {
   "cell_type": "code",
   "execution_count": 2,
   "metadata": {},
   "outputs": [],
   "source": [
    "template <class T>\n",
    "class Tree\n",
    "{\n",
    "    private:\n",
    "        TreeNode<T> * root;\n",
    "    public:\n",
    "        Tree();\n",
    "        void insert(T value);\n",
    "        void BFS()const;\n",
    "        //void preOrder()const;\n",
    "        //void inOrder()const;\n",
    "        //void postOrder()const;\n",
    "        ~Tree();\n",
    "};"
   ]
  },
  {
   "cell_type": "code",
   "execution_count": 4,
   "metadata": {},
   "outputs": [],
   "source": [
    "template<class T>\n",
    "Tree<T>::Tree()\n",
    "{\n",
    "    this -> root = NULL;\n",
    "}"
   ]
  },
  {
   "cell_type": "code",
   "execution_count": 5,
   "metadata": {},
   "outputs": [],
   "source": [
    "template<class T>\n",
    "Tree<T>::~Tree()\n",
    "{\n",
    "    \n",
    "}"
   ]
  },
  {
   "cell_type": "code",
   "execution_count": 6,
   "metadata": {},
   "outputs": [],
   "source": [
    "template<class T>\n",
    "void Tree<T>::insert(T value)\n",
    "{\n",
    "    if (!this -> root) \n",
    "        this -> root = new TreeNode<T>(value);\n",
    "    else\n",
    "    {\n",
    "        queue<TreeNode<T> *> Q;\n",
    "        Q.push(this -> root);\n",
    "        while(true)\n",
    "        {\n",
    "            TreeNode<T> * p = Q.front();\n",
    "            if(p -> left == NULL)\n",
    "            {\n",
    "                p -> left = new TreeNode<T>(value);\n",
    "                return;\n",
    "            }else\n",
    "            {\n",
    "                Q.push(p->left);\n",
    "            }\n",
    "            if(p -> right == NULL)\n",
    "            {\n",
    "                p -> right = new TreeNode<T>(value);\n",
    "                return;\n",
    "            }else\n",
    "            {\n",
    "                Q.push(p->right);\n",
    "            }\n",
    "            Q.pop();\n",
    "        }\n",
    "    }\n",
    "}"
   ]
  },
  {
   "cell_type": "code",
   "execution_count": 7,
   "metadata": {},
   "outputs": [],
   "source": [
    "template<class T>\n",
    "void Tree<T>::BFS()const\n",
    "{\n",
    "    queue<TreeNode<T> *> Q;\n",
    "    Q.push(this -> root);\n",
    "    while(!Q.empty())\n",
    "    {\n",
    "        cout<<Q.front() -> data<<\" \";\n",
    "        if(Q.front()->left!=NULL)\n",
    "            Q.push(Q.front()->left);\n",
    "        if(Q.front()->right!=NULL)\n",
    "            Q.push(Q.front()->right);\n",
    "        Q.pop();\n",
    "    }\n",
    "}"
   ]
  },
  {
   "cell_type": "code",
   "execution_count": 8,
   "metadata": {},
   "outputs": [],
   "source": [
    "Tree<int> a;"
   ]
  },
  {
   "cell_type": "code",
   "execution_count": 9,
   "metadata": {},
   "outputs": [],
   "source": [
    "a.insert(1);"
   ]
  },
  {
   "cell_type": "code",
   "execution_count": 10,
   "metadata": {},
   "outputs": [
    {
     "name": "stdout",
     "output_type": "stream",
     "text": [
      "1 "
     ]
    },
    {
     "name": "stderr",
     "output_type": "stream",
     "text": [
      "input_line_15:8:15: warning: null passed to a callee that requires a non-null argument [-Wnonnull]\n",
      "        cout<<Q.front() -> data<<\" \";\n",
      "              ^~~~~~~~~\n"
     ]
    }
   ],
   "source": [
    "a.BFS();"
   ]
  },
  {
   "cell_type": "code",
   "execution_count": null,
   "metadata": {},
   "outputs": [],
   "source": []
  }
 ],
 "metadata": {
  "kernelspec": {
   "display_name": "xeus C++11",
   "language": "",
   "name": "xeus-cling-cpp11"
  },
  "language_info": {
   "codemirror_mode": "text/x-c++src",
   "file_extension": ".cpp",
   "mimetype": "text/x-c++src",
   "name": "c++",
   "version": ""
  }
 },
 "nbformat": 4,
 "nbformat_minor": 2
}
