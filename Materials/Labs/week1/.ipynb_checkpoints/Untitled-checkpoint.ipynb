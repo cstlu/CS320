{
 "cells": [
  {
   "cell_type": "code",
   "execution_count": 3,
   "metadata": {},
   "outputs": [],
   "source": [
    "#include <iostream>\n",
    "using namespace std;"
   ]
  },
  {
   "cell_type": "code",
   "execution_count": 4,
   "metadata": {},
   "outputs": [],
   "source": [
    "#include <vector>"
   ]
  },
  {
   "cell_type": "code",
   "execution_count": 5,
   "metadata": {},
   "outputs": [],
   "source": [
    "vector<double> a(4);\n",
    "a[0] = 5;\n",
    "a[1] = 2;\n",
    "a[2] = 1;\n",
    "a[3] = 3;"
   ]
  },
  {
   "cell_type": "code",
   "execution_count": 6,
   "metadata": {},
   "outputs": [],
   "source": [
    "vector<double> b(8);\n",
    "b[0] = 5;\n",
    "b[1] = 2;\n",
    "b[2] = 1;\n",
    "b[3] = 3;\n",
    "b[4] = 2;\n",
    "b[5] = 1;\n",
    "b[6] = 30;\n",
    "b[7] = 31;"
   ]
  },
  {
   "cell_type": "code",
   "execution_count": 12,
   "metadata": {},
   "outputs": [],
   "source": [
    "vector<double> c;"
   ]
  },
  {
   "cell_type": "code",
   "execution_count": 18,
   "metadata": {},
   "outputs": [
    {
     "name": "stderr",
     "output_type": "stream",
     "text": [
      "input_line_32:2:4: error: no member named 'size' in 'std::vector<double, std::allocator<double> >'\n",
      " a.size()\n",
      " ~ ^\n"
     ]
    }
   ],
   "source": [
    "a.size()"
   ]
  },
  {
   "cell_type": "code",
   "execution_count": 13,
   "metadata": {},
   "outputs": [
    {
     "name": "stderr",
     "output_type": "stream",
     "text": [
      "input_line_26:2:29: error: no member named 'size' in 'std::vector<double, std::allocator<double> >'\n",
      " for(int i =0, j = 0; i < a.size() && j < b.size();i++,j++)\n",
      "                          ~ ^\n",
      "input_line_26:2:45: error: no member named 'size' in 'std::vector<double, std::allocator<double> >'\n",
      " for(int i =0, j = 0; i < a.size() && j < b.size();i++,j++)\n",
      "                                          ~ ^\n",
      "input_line_26:6:6: error: no member named 'size' in 'std::vector<double, std::allocator<double> >'\n",
      "if(a.size() > b.size())\n",
      "   ~ ^\n",
      "input_line_26:6:17: error: no member named 'size' in 'std::vector<double, std::allocator<double> >'\n",
      "if(a.size() > b.size())\n",
      "              ~ ^\n",
      "input_line_26:8:19: error: no member named 'size' in 'std::vector<double, std::allocator<double> >'\n",
      "    for(int i = b.size(); i < a.size();i++)\n",
      "                ~ ^\n",
      "input_line_26:8:33: error: no member named 'size' in 'std::vector<double, std::allocator<double> >'\n",
      "    for(int i = b.size(); i < a.size();i++)\n",
      "                              ~ ^\n",
      "input_line_26:15:19: error: no member named 'size' in 'std::vector<double, std::allocator<double> >'\n",
      "    for(int i = a.size(); i < b.size();i++)\n",
      "                ~ ^\n",
      "input_line_26:15:33: error: no member named 'size' in 'std::vector<double, std::allocator<double> >'\n",
      "    for(int i = a.size(); i < b.size();i++)\n",
      "                              ~ ^\n"
     ]
    }
   ],
   "source": [
    "for(int i =0, j = 0; i < a.size() && j < b.size();i++,j++)\n",
    "{\n",
    "    c.push_back(a[i]*b[j]);\n",
    "}\n",
    "if(a.size() > b.size())\n",
    "{\n",
    "    for(int i = b.size(); i < a.size();i++)\n",
    "    {\n",
    "        c.push_back(a[i]);\n",
    "    }\n",
    "}\n",
    "else\n",
    "{\n",
    "    for(int i = a.size(); i < b.size();i++)\n",
    "    {\n",
    "        c.push_back(b[i]);\n",
    "    }\n",
    "}"
   ]
  },
  {
   "cell_type": "code",
   "execution_count": null,
   "metadata": {},
   "outputs": [],
   "source": []
  }
 ],
 "metadata": {
  "kernelspec": {
   "display_name": "xeus C++14",
   "language": "",
   "name": "xeus-cling-cpp14"
  },
  "language_info": {
   "codemirror_mode": "text/x-c++src",
   "file_extension": ".cpp",
   "mimetype": "text/x-c++src",
   "name": "c++",
   "version": ""
  }
 },
 "nbformat": 4,
 "nbformat_minor": 2
}
