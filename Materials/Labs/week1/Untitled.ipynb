{
 "cells": [
  {
   "cell_type": "code",
   "execution_count": 1,
   "metadata": {},
   "outputs": [],
   "source": [
    "#include <iostream>\n",
    "using namespace std;"
   ]
  },
  {
   "cell_type": "code",
   "execution_count": 2,
   "metadata": {},
   "outputs": [],
   "source": [
    "#include <vector>"
   ]
  },
  {
   "cell_type": "code",
   "execution_count": 3,
   "metadata": {},
   "outputs": [],
   "source": [
    "vector<double> a(4);\n",
    "a[0] = 5;\n",
    "a[1] = 2;\n",
    "a[2] = 1;\n",
    "a[3] = 3;"
   ]
  },
  {
   "cell_type": "code",
   "execution_count": 4,
   "metadata": {},
   "outputs": [],
   "source": [
    "vector<double> b(8);\n",
    "b[0] = 5;\n",
    "b[1] = 2;\n",
    "b[2] = 1;\n",
    "b[3] = 3;\n",
    "b[4] = 2;\n",
    "b[5] = 1;\n",
    "b[6] = 30;\n",
    "b[7] = 31;"
   ]
  },
  {
   "cell_type": "code",
   "execution_count": 5,
   "metadata": {},
   "outputs": [],
   "source": [
    "vector<double> c;"
   ]
  },
  {
   "cell_type": "code",
   "execution_count": 6,
   "metadata": {},
   "outputs": [
    {
     "name": "stdout",
     "output_type": "stream",
     "text": [
      "(unsigned long) 4\n"
     ]
    }
   ],
   "source": [
    "a.size()"
   ]
  },
  {
   "cell_type": "code",
   "execution_count": 7,
   "metadata": {},
   "outputs": [],
   "source": [
    "for(int i =0, j = 0; i < a.size() && j < b.size();i++,j++)\n",
    "{\n",
    "    c.push_back(a[i]*b[j]);\n",
    "}\n",
    "if(a.size() > b.size())\n",
    "{\n",
    "    for(int i = b.size(); i < a.size();i++)\n",
    "    {\n",
    "        c.push_back(a[i]);\n",
    "    }\n",
    "}\n",
    "else\n",
    "{\n",
    "    for(int i = a.size(); i < b.size();i++)\n",
    "    {\n",
    "        c.push_back(b[i]);\n",
    "    }\n",
    "}"
   ]
  },
  {
   "cell_type": "code",
   "execution_count": 8,
   "metadata": {},
   "outputs": [
    {
     "name": "stdout",
     "output_type": "stream",
     "text": [
      "(std::vector<double> &) { 25.000000, 4.000000, 1.000000, 9.000000, 2.000000, 1.000000, 30.000000, 31.000000 }\n"
     ]
    }
   ],
   "source": [
    "c"
   ]
  },
  {
   "cell_type": "code",
   "execution_count": 9,
   "metadata": {},
   "outputs": [
    {
     "name": "stdout",
     "output_type": "stream",
     "text": [
      "(std::vector<double> &) { 5.000000, 2.000000, 1.000000, 3.000000 }\n"
     ]
    }
   ],
   "source": [
    "a"
   ]
  },
  {
   "cell_type": "code",
   "execution_count": 10,
   "metadata": {},
   "outputs": [
    {
     "name": "stdout",
     "output_type": "stream",
     "text": [
      "(std::vector<double> &) { 5.000000, 2.000000, 1.000000, 3.000000, 2.000000, 1.000000, 30.000000, 31.000000 }\n"
     ]
    }
   ],
   "source": [
    "b"
   ]
  },
  {
   "cell_type": "code",
   "execution_count": null,
   "metadata": {},
   "outputs": [],
   "source": []
  }
 ],
 "metadata": {
  "kernelspec": {
   "display_name": "xeus C++14",
   "language": "",
   "name": "xeus-cling-cpp14"
  },
  "language_info": {
   "codemirror_mode": "text/x-c++src",
   "file_extension": ".cpp",
   "mimetype": "text/x-c++src",
   "name": "c++",
   "version": ""
  }
 },
 "nbformat": 4,
 "nbformat_minor": 2
}
