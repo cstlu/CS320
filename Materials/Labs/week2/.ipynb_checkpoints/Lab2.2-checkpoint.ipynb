{
 "cells": [
  {
   "cell_type": "markdown",
   "metadata": {},
   "source": [
    "B1: Tạo node\n",
    "- Key\n",
    "- Node * next\n"
   ]
  },
  {
   "cell_type": "code",
   "execution_count": 1,
   "metadata": {},
   "outputs": [],
   "source": [
    "template<class T>\n",
    "class Node\n",
    "{\n",
    "    public:\n",
    "        T key;\n",
    "        Node<T> * next;\n",
    "};"
   ]
  },
  {
   "cell_type": "markdown",
   "metadata": {},
   "source": [
    "B2: Tạo Class List\n",
    "- Node *head;\n",
    "- PushFront(Key)\n",
    "- bool PopFront()\n",
    "- Key topFront()\n",
    "- PushBack(Key)\n",
    "- Key PopBack()\n",
    "- Long size()\n",
    "- Bool isEmpty()\n",
    "- Insert(key)"
   ]
  },
  {
   "cell_type": "code",
   "execution_count": 2,
   "metadata": {},
   "outputs": [],
   "source": [
    "template<class T>\n",
    "class LinkedList\n",
    "{\n",
    "    private:\n",
    "        Node<T> * head;\n",
    "    public:\n",
    "        LinkedList(){}\n",
    "    \n",
    "        void pushFront(const T value);\n",
    "        const T& topFront()const;\n",
    "        bool popFront();\n",
    "    \n",
    "        void pushBack(const T value);\n",
    "        const T& topBack()const;\n",
    "        bool popBack();\n",
    "    \n",
    "        void insert(const T value);\n",
    "        const T& find(int index)const;//[]\n",
    "        const T& operator[] (const int index) const;\n",
    "    \n",
    "        long size()const;\n",
    "        bool isEmpty()const;\n",
    "    \n",
    "        \n",
    "        ~LinkedList(){}\n",
    "};\n"
   ]
  },
  {
   "cell_type": "code",
   "execution_count": 3,
   "metadata": {},
   "outputs": [],
   "source": [
    "template <class T>\n",
    "void LinkedList<T>::pushFront(const T value)\n",
    "{\n",
    "    Node<T> *p = new Node<T>();\n",
    "    p -> key = value;\n",
    "    p -> next = this -> head;\n",
    "    this -> head = p;\n",
    "}"
   ]
  },
  {
   "cell_type": "code",
   "execution_count": 4,
   "metadata": {},
   "outputs": [],
   "source": [
    "template <class T>\n",
    "bool LinkedList<T>::popFront()\n",
    "{\n",
    "    if (this -> head == NULL)\n",
    "        return false;\n",
    "    else\n",
    "    {\n",
    "        Node<T> * temp = this -> head;\n",
    "        this -> head = temp -> next;\n",
    "        delete temp;\n",
    "        return true;\n",
    "    }\n",
    "}"
   ]
  },
  {
   "cell_type": "code",
   "execution_count": 5,
   "metadata": {},
   "outputs": [],
   "source": [
    "template <class T>\n",
    "const T& LinkedList<T>::topFront()const\n",
    "{\n",
    "    return this -> head -> key;\n",
    "}"
   ]
  },
  {
   "cell_type": "code",
   "execution_count": 6,
   "metadata": {},
   "outputs": [],
   "source": [
    "template <class T>\n",
    "void LinkedList<T>::pushBack(const T value)\n",
    "{\n",
    "    Node<T> *p = new Node<int>();\n",
    "    p->key = value;\n",
    "    p->next = NULL;\n",
    "    if(this -> head == NULL)\n",
    "        this -> head = p;\n",
    "    else\n",
    "    {\n",
    "        Node<T> *temp= this -> head;\n",
    "        while(temp -> next != NULL)\n",
    "            temp = temp -> next;\n",
    "        temp -> next = p;\n",
    "    }\n",
    "}"
   ]
  },
  {
   "cell_type": "code",
   "execution_count": 7,
   "metadata": {},
   "outputs": [],
   "source": [
    "template <class T>\n",
    "bool LinkedList<T>::popBack()\n",
    "{\n",
    "    if (this -> head == NULL)\n",
    "        return false;\n",
    "    else\n",
    "    {\n",
    "        if(this -> head -> next == NULL)\n",
    "        {\n",
    "            Node<T> * temp = this -> head;\n",
    "            this -> head = NULL;\n",
    "            delete temp;\n",
    "        }\n",
    "        else\n",
    "        {\n",
    "            Node<T> * temp = this -> head;\n",
    "            while (temp -> next-> next != NULL)\n",
    "            {\n",
    "                temp = temp -> next;\n",
    "            }\n",
    "            delete temp->next;\n",
    "            temp->next = NULL;\n",
    "        }\n",
    "        return true;\n",
    "    }\n",
    "}"
   ]
  },
  {
   "cell_type": "code",
   "execution_count": null,
   "metadata": {},
   "outputs": [],
   "source": []
  },
  {
   "cell_type": "code",
   "execution_count": 8,
   "metadata": {},
   "outputs": [],
   "source": [
    "template <class T>\n",
    "const T& LinkedList<T>::topBack()const\n",
    "{\n",
    "    Node<T> * temp = head;\n",
    "    while (temp -> next != NULL)\n",
    "    {\n",
    "       temp = temp -> next;\n",
    "    }\n",
    "    return temp -> key;\n",
    "}"
   ]
  },
  {
   "cell_type": "code",
   "execution_count": 9,
   "metadata": {},
   "outputs": [],
   "source": [
    "template<class T>\n",
    "const T& LinkedList<T>::operator[] (const int index) const\n",
    "{\n",
    "    int counter = 0;\n",
    "    Node<T> *temp = head;\n",
    "    while(counter < index)\n",
    "    {\n",
    "        temp = temp -> next;\n",
    "        \n",
    "        counter ++;\n",
    "    }\n",
    "    return temp -> key;\n",
    "}\n",
    "\n",
    "template <class T>\n",
    "long LinkedList<T>::size()const\n",
    "{\n",
    "    long counter = 0;\n",
    "    \n",
    "    Node<T> *temp = head;\n",
    "    while (temp != NULL)\n",
    "    {\n",
    "        temp = temp -> next;\n",
    "        counter ++;\n",
    "    }\n",
    "    return counter;\n",
    "}\n",
    "\n",
    "template <class T>\n",
    "bool LinkedList<T>::isEmpty()const\n",
    "{\n",
    "    return head == NULL;\n",
    "}"
   ]
  },
  {
   "cell_type": "code",
   "execution_count": 10,
   "metadata": {
    "scrolled": true
   },
   "outputs": [],
   "source": [
    "#include <iostream>\n",
    "using namespace std;\n",
    "\n",
    "LinkedList<int> cf212;"
   ]
  },
  {
   "cell_type": "code",
   "execution_count": 11,
   "metadata": {},
   "outputs": [],
   "source": [
    "cf212.pushFront(2);"
   ]
  },
  {
   "cell_type": "code",
   "execution_count": 12,
   "metadata": {},
   "outputs": [
    {
     "name": "stdout",
     "output_type": "stream",
     "text": [
      "2"
     ]
    }
   ],
   "source": [
    "cout<<cf212[0];"
   ]
  },
  {
   "cell_type": "code",
   "execution_count": 13,
   "metadata": {},
   "outputs": [
    {
     "name": "stdout",
     "output_type": "stream",
     "text": [
      "3"
     ]
    }
   ],
   "source": [
    "cf212.pushFront(3);\n",
    "cout<<cf212[0];"
   ]
  },
  {
   "cell_type": "code",
   "execution_count": 14,
   "metadata": {},
   "outputs": [
    {
     "name": "stdout",
     "output_type": "stream",
     "text": [
      "3 2"
     ]
    }
   ],
   "source": [
    "cout<<cf212[0]<<\" \"<<cf212[1];"
   ]
  },
  {
   "cell_type": "code",
   "execution_count": 15,
   "metadata": {},
   "outputs": [],
   "source": [
    "cf212.pushBack(5);"
   ]
  },
  {
   "cell_type": "code",
   "execution_count": 16,
   "metadata": {
    "scrolled": true
   },
   "outputs": [
    {
     "name": "stdout",
     "output_type": "stream",
     "text": [
      "3 2 5 "
     ]
    }
   ],
   "source": [
    "for(int i =0 ; i< cf212.size();i++)\n",
    "{\n",
    "    cout<<cf212[i]<<\" \";\n",
    "}"
   ]
  },
  {
   "cell_type": "code",
   "execution_count": 17,
   "metadata": {},
   "outputs": [
    {
     "name": "stdout",
     "output_type": "stream",
     "text": [
      "5"
     ]
    }
   ],
   "source": [
    "cout<<cf212.topBack();"
   ]
  },
  {
   "cell_type": "code",
   "execution_count": 18,
   "metadata": {},
   "outputs": [],
   "source": [
    "cf212.popFront();"
   ]
  },
  {
   "cell_type": "code",
   "execution_count": 19,
   "metadata": {},
   "outputs": [
    {
     "name": "stdout",
     "output_type": "stream",
     "text": [
      "2 5 "
     ]
    }
   ],
   "source": [
    "for(int i =0 ; i< cf212.size();i++)\n",
    "{\n",
    "    cout<<cf212[i]<<\" \";\n",
    "}"
   ]
  },
  {
   "cell_type": "code",
   "execution_count": 20,
   "metadata": {},
   "outputs": [],
   "source": [
    "cf212.popBack();"
   ]
  },
  {
   "cell_type": "code",
   "execution_count": 21,
   "metadata": {},
   "outputs": [
    {
     "name": "stdout",
     "output_type": "stream",
     "text": [
      "2 "
     ]
    }
   ],
   "source": [
    "for(int i =0 ; i< cf212.size();i++)\n",
    "{\n",
    "    cout<<cf212[i]<<\" \";\n",
    "}"
   ]
  },
  {
   "cell_type": "code",
   "execution_count": 22,
   "metadata": {},
   "outputs": [
    {
     "name": "stdout",
     "output_type": "stream",
     "text": [
      "(const int) 2\n"
     ]
    }
   ],
   "source": [
    "cf212.topBack()"
   ]
  },
  {
   "cell_type": "code",
   "execution_count": null,
   "metadata": {},
   "outputs": [],
   "source": []
  }
 ],
 "metadata": {
  "kernelspec": {
   "display_name": "xeus C++11",
   "language": "",
   "name": "xeus-cling-cpp11"
  },
  "language_info": {
   "codemirror_mode": "text/x-c++src",
   "file_extension": ".cpp",
   "mimetype": "text/x-c++src",
   "name": "c++",
   "version": ""
  }
 },
 "nbformat": 4,
 "nbformat_minor": 2
}
