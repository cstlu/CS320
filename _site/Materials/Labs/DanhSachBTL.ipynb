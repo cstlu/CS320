{
 "cells": [
  {
   "cell_type": "markdown",
   "metadata": {},
   "source": [
    "# Danh sách bài tập lớn\n",
    "\n",
    "## CF212-01: Mini Search Engine\n",
    "\n",
    "## CF212-02: Tuyển sinh đại học 2017\n",
    "\n",
    "## CF212-03: Text File Compression\n",
    "\n",
    "## CF212-04: Spell Checker\n",
    "\n",
    "## CF212-05: Travelling Salesman Problem\n",
    "\n",
    "## CF212-06: Bank Account Manager\n",
    "\n",
    "## CF212-07: Patient / Doctor Scheduler\n",
    "\n",
    "## CF212-08: Inverted index and Full Text Search\n",
    "\n",
    "## CF212-09: Airline / Hotel Reservation System\n",
    "\n",
    "## CF212-10: Tính toán biểu thức \n",
    "\n",
    "## CF212-11: Xây dựng cây từ điển \n",
    "\n",
    "## CF212-12: Xây dựng game tháp hà nội (có gợi ý từ máy)\n",
    "\n",
    "## CF212-13: Xây dựng game X-O (chơi với máy)\n"
   ]
  },
  {
   "cell_type": "code",
   "execution_count": null,
   "metadata": {},
   "outputs": [],
   "source": [
    "\n"
   ]
  }
 ],
 "metadata": {
  "kernelspec": {
   "display_name": "xeus C++11",
   "language": "",
   "name": "xeus-cling-cpp11"
  },
  "language_info": {
   "codemirror_mode": "text/x-c++src",
   "file_extension": ".cpp",
   "mimetype": "text/x-c++src",
   "name": "c++",
   "version": ""
  }
 },
 "nbformat": 4,
 "nbformat_minor": 2
}
