{
 "cells": [
  {
   "cell_type": "markdown",
   "metadata": {},
   "source": [
    "B1: Tạo node\n",
    "- Key\n",
    "- Node * next\n"
   ]
  },
  {
   "cell_type": "code",
   "execution_count": 1,
   "metadata": {},
   "outputs": [],
   "source": [
    "template<class T>\n",
    "struct Node\n",
    "{\n",
    "    T key;\n",
    "    Node<T> * next;\n",
    "};"
   ]
  },
  {
   "cell_type": "code",
   "execution_count": 2,
   "metadata": {},
   "outputs": [],
   "source": [
    "#include <iostream>\n",
    "using namespace std;"
   ]
  },
  {
   "cell_type": "markdown",
   "metadata": {},
   "source": [
    "B2: Tạo Class List\n",
    "- Node *head;\n",
    "- PushFront(Key)\n",
    "- bool PopFront()\n",
    "- Key topFront()\n",
    "- PushBack(Key)\n",
    "- Key PopBack()\n",
    "- Long size()\n",
    "- Bool isEmpty()\n",
    "- Insert(key)"
   ]
  },
  {
   "cell_type": "code",
   "execution_count": 6,
   "metadata": {},
   "outputs": [],
   "source": [
    "template<class T>\n",
    "class LinkedList\n",
    "{\n",
    "    private:\n",
    "        Node<T> * head;\n",
    "    public:\n",
    "        LinkedList()\n",
    "        {\n",
    "            \n",
    "        }\n",
    "        \n",
    "        void pushFront(const T &value);\n",
    "        T topFront()const;\n",
    "        bool popFront();\n",
    "    \n",
    "        void pushBack(const T &value);\n",
    "        T topBack()const;\n",
    "        bool popBack();\n",
    "    \n",
    "        //void insert(const T &value);\n",
    "        //T find(int index)const;//[]\n",
    "        T operator[] (const int &index) const;\n",
    "    \n",
    "        long size()const;\n",
    "        bool isEmpty()const;\n",
    "    \n",
    "        \n",
    "        ~LinkedList()\n",
    "        {\n",
    "            \n",
    "        }\n",
    "};\n",
    "\n",
    "template <class T>\n",
    "void LinkedList<T>::pushFront(const T & value)\n",
    "{\n",
    "    Node<T> *p = new Node<int>();\n",
    "    p -> key = value;\n",
    "    p -> next = NULL;\n",
    "    if (head == NULL)\n",
    "        head = p;\n",
    "    else\n",
    "    {\n",
    "        p -> next = head;\n",
    "        head = p;\n",
    "    }\n",
    "}\n",
    "\n",
    "template<class T>\n",
    "T LinkedList<T>::operator[] (const int &index) const\n",
    "{\n",
    "    int counter = 0;\n",
    "    Node<T> *temp = head;\n",
    "    while(counter < index)\n",
    "    {\n",
    "        temp = temp -> next;\n",
    "        \n",
    "        counter ++;\n",
    "    }\n",
    "    return temp -> key;\n",
    "}\n",
    "\n",
    "template <class T>\n",
    "bool LinkedList<T>::popFront()\n",
    "{\n",
    "    if (head == NULL)\n",
    "        return false;\n",
    "    else\n",
    "    {\n",
    "        Node<T> * temp;\n",
    "        \n",
    "        temp = head;\n",
    "        head = head -> next;\n",
    "        \n",
    "        delete (temp);\n",
    "        return true;\n",
    "    }\n",
    "}\n",
    "\n",
    "template <class T>\n",
    "T LinkedList<T>::topFront()const\n",
    "{\n",
    "    return head -> key;\n",
    "}\n",
    "\n",
    "template <class T>\n",
    "void LinkedList<T>::pushBack(const T & value)\n",
    "{\n",
    "    Node<T> *p = new Node<int>();\n",
    "    p->key = value;\n",
    "    p->next = NULL;\n",
    "    if(head == NULL)\n",
    "        head = p;\n",
    "    else\n",
    "    {\n",
    "        Node<T> *temp=head;\n",
    "        while(temp -> next != NULL)\n",
    "            temp = temp -> next;\n",
    "        temp -> next = p;\n",
    "    }\n",
    "}\n",
    "\n",
    "template <class T>\n",
    "bool LinkedList<T>::popBack()\n",
    "{\n",
    "    if (head == NULL)\n",
    "        return false;\n",
    "    else\n",
    "    {\n",
    "        if(head -> next == NULL)\n",
    "        {\n",
    "            Node<T> * temp = head;\n",
    "            head = NULL;\n",
    "            delete (temp);\n",
    "        }\n",
    "        else\n",
    "        {\n",
    "            Node<T> * temp = head;\n",
    "            while (temp -> next-> next != NULL)\n",
    "            {\n",
    "               temp = temp -> next;\n",
    "            }\n",
    "            delete (temp);\n",
    "        }\n",
    "        return true;\n",
    "    }\n",
    "}\n",
    "\n",
    "template <class T>\n",
    "T LinkedList<T>::topBack()const\n",
    "{\n",
    "    Node<T> * temp = head;\n",
    "    while (temp -> next != NULL)\n",
    "    {\n",
    "       temp = temp -> next;\n",
    "    }\n",
    "    return temp -> key;\n",
    "}\n",
    "\n",
    "template <class T>\n",
    "long LinkedList<T>::size()const\n",
    "{\n",
    "    long counter = 0;\n",
    "    \n",
    "    Node<T> *temp = head;\n",
    "    while (temp != NULL)\n",
    "    {\n",
    "        temp = temp -> next;\n",
    "        counter ++;\n",
    "    }\n",
    "    return counter;\n",
    "}\n",
    "\n",
    "template <class T>\n",
    "bool LinkedList<T>::isEmpty()const\n",
    "{\n",
    "    return head == NULL;\n",
    "}\n"
   ]
  },
  {
   "cell_type": "code",
   "execution_count": 7,
   "metadata": {},
   "outputs": [],
   "source": [
    "LinkedList<int> cf212;"
   ]
  },
  {
   "cell_type": "code",
   "execution_count": 8,
   "metadata": {},
   "outputs": [],
   "source": [
    "int a = 2;\n",
    "cf212.pushFront(a);"
   ]
  },
  {
   "cell_type": "code",
   "execution_count": 9,
   "metadata": {},
   "outputs": [
    {
     "name": "stdout",
     "output_type": "stream",
     "text": [
      "2"
     ]
    }
   ],
   "source": [
    "cout<<cf212[0];"
   ]
  },
  {
   "cell_type": "code",
   "execution_count": 10,
   "metadata": {},
   "outputs": [
    {
     "name": "stdout",
     "output_type": "stream",
     "text": [
      "3"
     ]
    }
   ],
   "source": [
    "a = 3;\n",
    "cf212.pushFront(a);\n",
    "cout<<cf212[0];"
   ]
  },
  {
   "cell_type": "code",
   "execution_count": 11,
   "metadata": {},
   "outputs": [
    {
     "name": "stdout",
     "output_type": "stream",
     "text": [
      "3 2"
     ]
    }
   ],
   "source": [
    "cout<<cf212[0]<<\" \"<<cf212[1];"
   ]
  },
  {
   "cell_type": "code",
   "execution_count": 12,
   "metadata": {},
   "outputs": [],
   "source": [
    "a = 5;\n",
    "cf212.pushBack(a);"
   ]
  },
  {
   "cell_type": "code",
   "execution_count": 14,
   "metadata": {
    "scrolled": true
   },
   "outputs": [
    {
     "name": "stdout",
     "output_type": "stream",
     "text": [
      "3 2 5 "
     ]
    }
   ],
   "source": [
    "for(int i =0 ; i< cf212.size();i++)\n",
    "{\n",
    "    cout<<cf212[i]<<\" \";\n",
    "}"
   ]
  },
  {
   "cell_type": "code",
   "execution_count": 15,
   "metadata": {},
   "outputs": [
    {
     "name": "stdout",
     "output_type": "stream",
     "text": [
      "3"
     ]
    }
   ],
   "source": [
    "cout<<cf212[0];"
   ]
  },
  {
   "cell_type": "code",
   "execution_count": 16,
   "metadata": {},
   "outputs": [
    {
     "name": "stdout",
     "output_type": "stream",
     "text": [
      "2"
     ]
    }
   ],
   "source": [
    "cout<<cf212[1];"
   ]
  },
  {
   "cell_type": "code",
   "execution_count": 17,
   "metadata": {},
   "outputs": [
    {
     "name": "stdout",
     "output_type": "stream",
     "text": [
      "5"
     ]
    }
   ],
   "source": [
    "cout<<cf212.topBack();"
   ]
  },
  {
   "cell_type": "code",
   "execution_count": null,
   "metadata": {},
   "outputs": [],
   "source": []
  }
 ],
 "metadata": {
  "kernelspec": {
   "display_name": "xeus C++11",
   "language": "",
   "name": "xeus-cling-cpp11"
  },
  "language_info": {
   "codemirror_mode": "text/x-c++src",
   "file_extension": ".cpp",
   "mimetype": "text/x-c++src",
   "name": "c++",
   "version": ""
  }
 },
 "nbformat": 4,
 "nbformat_minor": 2
}
